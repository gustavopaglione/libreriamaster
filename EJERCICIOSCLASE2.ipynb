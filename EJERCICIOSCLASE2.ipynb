{
  "nbformat": 4,
  "nbformat_minor": 0,
  "metadata": {
    "colab": {
      "name": "EJERCICIOSCLASE2.ipynb",
      "provenance": [],
      "collapsed_sections": [],
      "authorship_tag": "ABX9TyMpntyITQ4x3fYGdCnKJbd2",
      "include_colab_link": true
    },
    "kernelspec": {
      "name": "python3",
      "display_name": "Python 3"
    },
    "language_info": {
      "name": "python"
    }
  },
  "cells": [
    {
      "cell_type": "markdown",
      "metadata": {
        "id": "view-in-github",
        "colab_type": "text"
      },
      "source": [
        "<a href=\"https://colab.research.google.com/github/gustavopaglione/libreriamaster/blob/main/EJERCICIOSCLASE2.ipynb\" target=\"_parent\"><img src=\"https://colab.research.google.com/assets/colab-badge.svg\" alt=\"Open In Colab\"/></a>"
      ]
    },
    {
      "cell_type": "markdown",
      "source": [
        "1-\tEscribir un programa que pregunte el nombre del usuario en la consola y después de que el usuario lo introduzca muestre por pantalla la cadena ¡Hola <nombre>!, donde <nombre> es el nombre que el usuario haya introducido."
      ],
      "metadata": {
        "id": "_sIqiIskq4Nf"
      }
    },
    {
      "cell_type": "code",
      "source": [
        "valor1 = (input(\"Escriba su nombre:\"))\n",
        "\n",
        "print(\"Hola!\" , valor1)\n",
        "\n",
        "\n",
        "\n",
        "\n"
      ],
      "metadata": {
        "colab": {
          "base_uri": "https://localhost:8080/"
        },
        "id": "H3CDst3WE2cN",
        "outputId": "9ec6be5b-fc36-4407-d95a-a58698a6a602"
      },
      "execution_count": 2,
      "outputs": [
        {
          "output_type": "stream",
          "name": "stdout",
          "text": [
            "Escriba su nombre:gustavo\n",
            "Hola! gustavo\n"
          ]
        }
      ]
    },
    {
      "cell_type": "markdown",
      "source": [
        "Escribir un programa que muestre por pantalla el resultado de la siguiente operación aritmética ((3+2)/(2*5))^2"
      ],
      "metadata": {
        "id": "DZp_M4fLr6_p"
      }
    },
    {
      "cell_type": "code",
      "source": [
        "Calculo1=((3+2)/(2*5))**2\n",
        "print (\"El resultado del Calculo es:\", Calculo1)"
      ],
      "metadata": {
        "colab": {
          "base_uri": "https://localhost:8080/"
        },
        "id": "SYF3IRbYsAyn",
        "outputId": "2ef11a9b-f9c6-487e-93a8-2f841aa72d99"
      },
      "execution_count": 5,
      "outputs": [
        {
          "output_type": "stream",
          "name": "stdout",
          "text": [
            "El resultado del Calculo es: 0.25\n"
          ]
        }
      ]
    },
    {
      "cell_type": "markdown",
      "source": [
        "3-\tEscribir un programa que pregunte al usuario por el número de horas trabajadas y el coste por hora. Después debe mostrar por pantalla la paga que le corresponde."
      ],
      "metadata": {
        "id": "troq1BMxsiCg"
      }
    },
    {
      "cell_type": "code",
      "source": [
        "valor1 = int(input(\"Ingrese número de horas trabajadas:\"))\n",
        "valor2 = int(input(\"Ingrese el coste por hora:\"))\n",
        "\n",
        "calculo1=valor1*valor2\n",
        "\n",
        "\n",
        "print(\"Su pago es de: $\" ,calculo1)\n"
      ],
      "metadata": {
        "colab": {
          "base_uri": "https://localhost:8080/"
        },
        "id": "nf21nxUjsm1X",
        "outputId": "cef34663-abfb-4ef1-ead2-df5d8b0dc0d1"
      },
      "execution_count": 9,
      "outputs": [
        {
          "output_type": "stream",
          "name": "stdout",
          "text": [
            "Ingrese número de horas trabajadas:12\n",
            "Ingrese el coste por hora:300\n",
            "Su pago es de: $ 3600\n"
          ]
        }
      ]
    },
    {
      "cell_type": "markdown",
      "source": [
        "4-\tEscribir un programa que lea un entero positivo n, introducido por el usuario y después muestre en pantalla la suma de todos los enteros desde 1 hasta n. La suma de los n primeros enteros positivos puede ser calculada de la siguiente forma: suma=n((n+1)/2)"
      ],
      "metadata": {
        "id": "tRQJTgOLtquI"
      }
    },
    {
      "cell_type": "code",
      "source": [
        "n = int(input(\"Ingrese un numero entero positivo:\"))\n",
        "\n",
        "suma=n*(n+1)/2\n",
        "\n",
        "\n",
        "print(\"La suma de los primeros números enteros desde 1 hasta \" + str(n) + \" es \" + str(suma))"
      ],
      "metadata": {
        "colab": {
          "base_uri": "https://localhost:8080/"
        },
        "id": "QtNWe54FtznY",
        "outputId": "bdd1a665-d443-4fc3-f933-15eff5627219"
      },
      "execution_count": 13,
      "outputs": [
        {
          "output_type": "stream",
          "name": "stdout",
          "text": [
            "Ingrese un numero entero positivo:5\n",
            "La suma de los primeros números enteros desde 1 hasta 5 es 15.0\n"
          ]
        }
      ]
    },
    {
      "cell_type": "markdown",
      "source": [
        "5-\tEscribir un programa que pida al usuario su peso (en kg) y estatura (en metros), calcule el índice de masa corporal y lo almacene en una variable, y muestre por pantalla la frase Tu índice de masa corporal es <imc> donde <imc> es el índice de masa corporal calculado redondeado con dos decimales. round(numero, 2) "
      ],
      "metadata": {
        "id": "5yefUw5yv70I"
      }
    },
    {
      "cell_type": "code",
      "source": [
        "peso = input(\"Ingrese su peso en kg:\")\n",
        "estatura = input(\"Ingrese su estatura en metros:\")\n",
        "\n",
        "imc=round(float(peso)/float(estatura)**2,2)\n",
        "\n",
        "\n",
        "print(\"Tu índice de masa corporal es:\" +  str(imc))"
      ],
      "metadata": {
        "colab": {
          "base_uri": "https://localhost:8080/"
        },
        "id": "6Gamw8QPwAZP",
        "outputId": "d47faea4-1956-4f13-d22e-5ed092f558f4"
      },
      "execution_count": 19,
      "outputs": [
        {
          "output_type": "stream",
          "name": "stdout",
          "text": [
            "Ingrese su peso en kg:90\n",
            "Ingrese su estatura en metros:1.83\n",
            "Tu índice de masa corporal es:26.87\n"
          ]
        }
      ]
    },
    {
      "cell_type": "markdown",
      "source": [
        "6-\tUna juguetería tiene mucho éxito en dos de sus productos: payasos y muñecas. Suele hacer venta por correo y la empresa de logística les cobra por peso de cada paquete así que deben calcular el peso de los payasos y muñecas que saldrán en cada paquete a demanda. Cada payaso pesa 112 g y cada muñeca 75 g. Escribir un programa que lea el número de payasos y muñecas vendidos en el último pedido y calcule el peso total del paquete que será enviado."
      ],
      "metadata": {
        "id": "etpFrM0Lyd2E"
      }
    },
    {
      "cell_type": "code",
      "source": [
        "peso_payaso = 112\n",
        "peso_muñeca = 75\n",
        "\n",
        "payasos = int(input(\"Ingrese el numero de payasos vendidos:\"))\n",
        "muñecas = int(input(\"Ingrese el numero de muñecas vendidos:\"))\n",
        "\n",
        "peso_total = peso_payaso * payasos + peso_muñeca * muñecas\n",
        "\n",
        "\n",
        "print(\"El peso total del paquete es:\"+str(peso_total))"
      ],
      "metadata": {
        "colab": {
          "base_uri": "https://localhost:8080/"
        },
        "id": "JiVXJVZ6yhl6",
        "outputId": "93b4f0ca-03f2-4346-a975-a4970130da47"
      },
      "execution_count": 24,
      "outputs": [
        {
          "output_type": "stream",
          "name": "stdout",
          "text": [
            "Ingrese el numero de payasos vendidos:1\n",
            "Ingrese el numero de muñecas vendidos:1\n",
            "El peso total del paquete es:187\n"
          ]
        }
      ]
    },
    {
      "cell_type": "markdown",
      "source": [
        "7-\tUna panadería vende barras de pan a 35$ cada una. El pan que no es el día tiene un descuento del 60%. Escribir un programa que comience leyendo el número de barras vendidas que no son del día. Después el programa debe mostrar el precio habitual de una barra de pan, el descuento que se le hace por no ser fresca y el coste final total.\n",
        "Ejemplo:\n",
        "Precio del pan:\n",
        "Descuento:\n",
        "Precio del pan con descuento incluido: \n"
      ],
      "metadata": {
        "id": "mMoD1Wdc0eKa"
      }
    },
    {
      "cell_type": "code",
      "source": [
        "precio_barras= 35\n",
        "descuento_pan_viejo = 60\n",
        "barras_pan_vendidas= int(input(\"Ingrese el numero de barras vendidas que no son del dia:\"))\n",
        "\n",
        "descuento= float(descuento_pan_viejo*precio_barras)/100\n",
        "\n",
        "print(\"Precio del pan: $\" + str(precio_barras) + \" Descuento: $\" + str(descuento) + \" Precio del pan con descuento incluido: $\" + str(precio_barras-descuento))\n"
      ],
      "metadata": {
        "colab": {
          "base_uri": "https://localhost:8080/"
        },
        "id": "mpPhiwCN0i-y",
        "outputId": "b0e64481-1e89-49ad-cc05-8c508c072c1f"
      },
      "execution_count": 28,
      "outputs": [
        {
          "output_type": "stream",
          "name": "stdout",
          "text": [
            "Ingrese el numero de barras vendidas que no son del dia:1\n",
            "Precio del pan: $35 Descuento: $21.0 Precio del pan con descuento incluido: $14.0\n"
          ]
        }
      ]
    }
  ]
}